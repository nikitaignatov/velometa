{
 "cells": [
  {
   "cell_type": "code",
   "execution_count": null,
   "metadata": {},
   "outputs": [],
   "source": [
    "import pandas as pd\n",
    "import numpy as np\n",
    "import datetime\n",
    "\n",
    "time = datetime.datetime(2024, 4, 20)\n",
    "ts = int(time.timestamp() * 1000)\n",
    "date = str.format(\"{:%Y%m%d}\", time)\n",
    "\n",
    "ts = 1713620244400\n",
    "ts_end = 1713628344400\n",
    "\n",
    "path = \"/home/niig/Desktop\""
   ]
  },
  {
   "cell_type": "code",
   "execution_count": null,
   "metadata": {},
   "outputs": [],
   "source": [
    "def drop_invalid_lines(input_path: str, output_path: str):\n",
    "    invalid_lines = []\n",
    "\n",
    "    with open(input_path) as in_file, open(output_path, \"w\") as out_file:\n",
    "        for line in in_file:\n",
    "            if line.startswith(\"ts\"):\n",
    "                out_file.write(line)\n",
    "            elif len(line) <= 75:\n",
    "                if line.startswith(\"1\") and len(line.split(\",\")[0]) == 13:\n",
    "                    out_file.write(line)\n",
    "                else:\n",
    "                    invalid_lines.append(line)\n",
    "\n",
    "    df = pd.read_csv(output_path)\n",
    "    df = df[df.ts > ts]\n",
    "    df.to_csv(output_path, index=False)\n",
    "    print(f\"Invalid lines count: {len(invalid_lines)}\")\n",
    "\n",
    "\n",
    "def downsample_data(df: pd.DataFrame, period_ms: int = 100):\n",
    "    df[\"time\"] = pd.to_datetime(df[\"ts\"], unit=\"ms\")\n",
    "    df = df.drop(columns=[\"level_1\"], errors=\"ignore\")\n",
    "    df = (\n",
    "        df.set_index(\"time\")\n",
    "        .resample(f\"{period_ms}ms\")\n",
    "        .mean()\n",
    "        .dropna(how=\"all\")\n",
    "        .interpolate()\n",
    "    )\n",
    "    df[\"ts\"] = ((df[\"ts\"] / period_ms).round(0) * period_ms).astype(\"int64\")\n",
    "    df[\"time\"] = pd.to_datetime(df[\"ts\"], unit=\"ms\")\n",
    "    df = df.set_index(\"ts\").drop_duplicates()\n",
    "    return df"
   ]
  },
  {
   "cell_type": "markdown",
   "metadata": {},
   "source": [
    "### Cleanup the GPS file from any invalid lines\n"
   ]
  },
  {
   "cell_type": "code",
   "execution_count": null,
   "metadata": {},
   "outputs": [],
   "source": [
    "input_path = f\"{path}/ride_{date}/gps.csv\"\n",
    "output_path = f\"{path}/ride_{date}/gps_clean.csv\"\n",
    "\n",
    "drop_invalid_lines(input_path, output_path)"
   ]
  },
  {
   "cell_type": "markdown",
   "metadata": {},
   "source": [
    "### Remove invalid lines from the .\n"
   ]
  },
  {
   "cell_type": "code",
   "execution_count": null,
   "metadata": {},
   "outputs": [],
   "source": [
    "input_path = f\"{path}/ride_{date}/measurements.csv\"\n",
    "output_path = f\"{path}/ride_{date}/measurements_clean.csv\"\n",
    "\n",
    "drop_invalid_lines(input_path, output_path)"
   ]
  },
  {
   "cell_type": "code",
   "execution_count": null,
   "metadata": {},
   "outputs": [],
   "source": [
    "df_gps = pd.read_csv(f\"{path}/ride_{date}/gps_clean.csv\")\n",
    "df = pd.read_csv(f\"{path}/ride_{date}/measurements_clean.csv\")\n",
    "mapping = {\n",
    "    0: \"heartrate_bpm\",\n",
    "    1: \"power_w\",\n",
    "    2: \"cadence_rpm\",\n",
    "    3: \"speed_kmh\",\n",
    "    4: \"distance_km\",\n",
    "    5: \"elevation_m\",\n",
    "    6: \"ascent\",\n",
    "    7: \"descent\",\n",
    "    8: \"slope\",\n",
    "    9: \"vam\",\n",
    "    10: \"air_temperature\",\n",
    "    11: \"air_pressure_abs\",\n",
    "    12: \"air_humidity\",\n",
    "    13: \"air_speed\",\n",
    "    14: \"air_density\",\n",
    "    15: \"diff_pressure_l_pa\",\n",
    "    16: \"diff_pressure_r_pa\",\n",
    "    17: \"ax_ms2\",\n",
    "    18: \"ay_ms2\",\n",
    "    19: \"az_ms2\",\n",
    "    20: \"wind_speed\",\n",
    "    21: \"wind_yaw\",\n",
    "    22: \"gx\",\n",
    "    23: \"gy\",\n",
    "    24: \"gz\",\n",
    "    25: \"mx\",\n",
    "    26: \"my\",\n",
    "    27: \"mz\",\n",
    "    28: \"roll\",\n",
    "    29: \"pitch\",\n",
    "    30: \"yaw\",\n",
    "}\n",
    "df[\"type\"] = df[\"type\"].replace(mapping)\n",
    "df[\"ts\"] = df[\"ts\"].astype(\"int64\", errors=\"ignore\")\n",
    "df = df[df.ts > ts]\n",
    "df = df[df.ts < ts_end]\n",
    "\n",
    "\n",
    "df = (\n",
    "    df.pivot_table(index=\"ts\", columns=[\"type\"], values=[\"value\"])\n",
    "    .stack(0)\n",
    "    .reset_index()\n",
    ")\n",
    "df = downsample_data(df)"
   ]
  },
  {
   "cell_type": "code",
   "execution_count": null,
   "metadata": {},
   "outputs": [],
   "source": [
    "df_gps = df_gps[df_gps.ts > ts]\n",
    "df_gps = df_gps[df_gps.ts < ts_end]\n",
    "df_gps = downsample_data(df_gps)"
   ]
  },
  {
   "cell_type": "code",
   "execution_count": null,
   "metadata": {},
   "outputs": [],
   "source": [
    "df = pd.concat([df, df_gps]).sort_index().reset_index()\n",
    "df = downsample_data(df).reset_index()"
   ]
  },
  {
   "cell_type": "code",
   "execution_count": null,
   "metadata": {},
   "outputs": [],
   "source": [
    "df = df[df.ts > ts].round(8)\n",
    "df = df[df.ts < ts_end]\n",
    "\n",
    "df.to_csv(f\"{path}/ride_{date}/all_measurement_combined_{date}.csv\", index=False)"
   ]
  },
  {
   "cell_type": "code",
   "execution_count": null,
   "metadata": {},
   "outputs": [],
   "source": [
    "df[\"ts_d\"] = df[\"ts\"].diff()\n",
    "df[[\"ts\", \"ts_d\"]].sort_values(by=\"ts_d\", axis=0, ascending=False).head()"
   ]
  },
  {
   "cell_type": "code",
   "execution_count": null,
   "metadata": {},
   "outputs": [],
   "source": [
    "def haversine(lat1, lon1, lat2, lon2):\n",
    "    \"\"\"\n",
    "    Calculate the great circle distance between two points\n",
    "    on the earth specified in decimal degrees.\n",
    "    \"\"\"\n",
    "    # Convert decimal degrees to radians\n",
    "    lat1, lon1, lat2, lon2 = map(np.radians, [lat1, lon1, lat2, lon2])\n",
    "\n",
    "    # Haversine formula\n",
    "    dlat = lat2 - lat1\n",
    "    dlon = lon2 - lon1\n",
    "    a = np.sin(dlat / 2) ** 2 + np.cos(lat1) * np.cos(lat2) * np.sin(dlon / 2) ** 2\n",
    "    c = 2 * np.arcsin(np.sqrt(a))\n",
    "    r = 6371  # Radius of earth in kilometers. Use 3956 for miles\n",
    "    return c * r\n",
    "\n",
    "\n",
    "def calculate_distance(\n",
    "    df: pd.DataFrame,\n",
    "    max_distance_km_beetweeen_measurements: float = 0.1,\n",
    "    window_size: int = 30,\n",
    "):\n",
    "    \"\"\"\n",
    "    Calculate the distances between consecutive points in a latitude-longitude time series.\n",
    "    \"\"\"\n",
    "    # Reduce noise from the gps measurements\n",
    "    df[[\"lat1\", \"lon1\"]] = df[[\"lat\", \"lon\"]].rolling(window_size, center=True).mean()\n",
    "    df[[\"lat2\", \"lon2\"]] = df[[\"lat1\", \"lon1\"]].shift(1)\n",
    "    df[\"distance\"] = haversine(df[\"lat1\"], df[\"lon1\"], df[\"lat2\"], df[\"lon2\"])\n",
    "    df[\"distance\"] = np.where(\n",
    "        df[\"distance\"] > max_distance_km_beetweeen_measurements, np.nan, df[\"distance\"]\n",
    "    )\n",
    "    df[\"distance_km\"] = df[\"distance\"].cumsum()\n",
    "    df[\"distance_m\"] = df[\"distance_km\"] * 1000\n",
    "    return df\n",
    "\n",
    "\n",
    "def calculate_slope(\n",
    "    df: pd.DataFrame,\n",
    "    max_slope_threshold: int = 30,\n",
    "    window_size: int = 10,\n",
    ") -> pd.DataFrame:\n",
    "    \"\"\"\n",
    "    Calculate the distances between consecutive points in a latitude-longitude time series.\n",
    "    \"\"\"\n",
    "    df[\"height_m\"] = df[\"height\"] / 100\n",
    "    df[[\"height_diff\", \"distance_diff\"]] = (\n",
    "        df[[\"height_m\", \"distance_m\"]]\n",
    "        .interpolate()\n",
    "        .rolling(window_size, center=True)\n",
    "        .mean()\n",
    "        .interpolate()\n",
    "        .diff()\n",
    "    )\n",
    "    df[\"slope\"] = (df.height_diff / df.distance_diff) * 100\n",
    "    df[\"slope\"] = np.where(df[\"slope\"].abs() > max_slope_threshold, np.nan, df[\"slope\"])\n",
    "    df[\"slope\"] = df[\"slope\"].interpolate()\n",
    "    return df\n",
    "\n",
    "\n",
    "df = calculate_distance(df)\n",
    "df = calculate_slope(df)\n",
    "df = df.set_index(\"distance_km\")\n",
    "df.index.max()\n",
    "df.columns"
   ]
  },
  {
   "cell_type": "code",
   "execution_count": null,
   "metadata": {},
   "outputs": [],
   "source": [
    "# measurements are recorded at 10hz, rolling mean is 1 second\n",
    "window_size = 10"
   ]
  },
  {
   "cell_type": "code",
   "execution_count": null,
   "metadata": {},
   "outputs": [],
   "source": [
    "# plot gps stats\n",
    "df[\n",
    "    [\n",
    "        \"satelites\",\n",
    "        \"hdop\",\n",
    "        \"vdop\",\n",
    "    ]\n",
    "].rolling(\n",
    "    window_size, center=True\n",
    ").mean().plot(subplots=True, figsize=(10, 6))"
   ]
  },
  {
   "cell_type": "markdown",
   "metadata": {},
   "source": [
    "### GPS ride stats\n"
   ]
  },
  {
   "cell_type": "code",
   "execution_count": null,
   "metadata": {},
   "outputs": [],
   "source": [
    "df[\n",
    "    [\n",
    "        \"heading\",\n",
    "        \"height_m\",\n",
    "        \"slope\",\n",
    "        \"speed\",\n",
    "    ]\n",
    "].rolling(\n",
    "    window_size, center=True\n",
    ").mean().plot(subplots=True, figsize=(10, 6))"
   ]
  },
  {
   "cell_type": "code",
   "execution_count": null,
   "metadata": {},
   "outputs": [],
   "source": [
    "# plot environmental information\n",
    "df[\n",
    "    [\n",
    "        \"air_pressure_abs\",\n",
    "        \"air_density\",\n",
    "        \"air_temperature\",\n",
    "        \"air_humidity\",\n",
    "    ]\n",
    "].rolling(\n",
    "    window_size, center=True\n",
    ").mean().plot(subplots=True, figsize=(10, 6))"
   ]
  }
 ],
 "metadata": {
  "kernelspec": {
   "display_name": "Python 3",
   "language": "python",
   "name": "python3"
  },
  "language_info": {
   "codemirror_mode": {
    "name": "ipython",
    "version": 3
   },
   "file_extension": ".py",
   "mimetype": "text/x-python",
   "name": "python",
   "nbconvert_exporter": "python",
   "pygments_lexer": "ipython3",
   "version": "3.10.9"
  }
 },
 "nbformat": 4,
 "nbformat_minor": 2
}
