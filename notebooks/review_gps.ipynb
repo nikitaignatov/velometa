{
 "cells": [
  {
   "cell_type": "code",
   "execution_count": null,
   "metadata": {},
   "outputs": [],
   "source": [
    "import pandas as pd\n",
    "import numpy as np\n",
    "import datetime\n",
    "\n",
    "time    = datetime.datetime(2024,4,20)\n",
    "ts      = int(time.timestamp()*1000)\n",
    "date    = str.format(\"{:%Y%m%d}\",time)\n",
    "\n",
    "path    = \"/home/niig/Desktop\""
   ]
  },
  {
   "cell_type": "code",
   "execution_count": null,
   "metadata": {},
   "outputs": [],
   "source": [
    "def drop_invalid_lines(input_path:str,output_path:str):  \n",
    "    invalid_lines = []\n",
    "      \n",
    "    with open(input_path) as in_file, open(output_path, 'w') as out_file:\n",
    "        for line in in_file:\n",
    "            if line.startswith(\"ts\"):\n",
    "                out_file.write(line)                \n",
    "            elif len(line) <= 75:\n",
    "                if line.startswith(\"1\") and len(line.split(',')[0]) == 13:\n",
    "                    out_file.write(line)\n",
    "                else:\n",
    "                    invalid_lines.append(line )\n",
    "\n",
    "    df = pd.read_csv(output_path)\n",
    "    df = df[df.ts > ts]\n",
    "    df.to_csv(output_path,index=False)\n",
    "    print(f\"Invalid lines count: {len(invalid_lines)}\")"
   ]
  },
  {
   "cell_type": "markdown",
   "metadata": {},
   "source": [
    "### Cleanup the GPS file from any invalid lines"
   ]
  },
  {
   "cell_type": "code",
   "execution_count": null,
   "metadata": {},
   "outputs": [],
   "source": [
    "input_path      =  f\"{path}/ride_{date}/gps.csv\"\n",
    "output_path     =  f\"{path}/ride_{date}/gps_clean.csv\"\n",
    "\n",
    "drop_invalid_lines(input_path, output_path)"
   ]
  },
  {
   "cell_type": "markdown",
   "metadata": {},
   "source": [
    "### Remove invalid lines from the . "
   ]
  },
  {
   "cell_type": "code",
   "execution_count": null,
   "metadata": {},
   "outputs": [],
   "source": [
    "input_path      =  f\"{path}/ride_{date}/measurements.csv\"\n",
    "output_path     =  f\"{path}/ride_{date}/measurements_clean.csv\"\n",
    "\n",
    "drop_invalid_lines(input_path, output_path)"
   ]
  },
  {
   "cell_type": "code",
   "execution_count": null,
   "metadata": {},
   "outputs": [],
   "source": [
    "df[\"ts_d\"]  = df[\"ts\"].diff()\n",
    "df[[\"ts\",\"ts_d\"]].sort_values(by=\"ts_d\",axis=0,ascending=False).head()"
   ]
  }
 ],
 "metadata": {
  "kernelspec": {
   "display_name": "Python 3",
   "language": "python",
   "name": "python3"
  },
  "language_info": {
   "codemirror_mode": {
    "name": "ipython",
    "version": 3
   },
   "file_extension": ".py",
   "mimetype": "text/x-python",
   "name": "python",
   "nbconvert_exporter": "python",
   "pygments_lexer": "ipython3",
   "version": "3.10.9"
  }
 },
 "nbformat": 4,
 "nbformat_minor": 2
}
