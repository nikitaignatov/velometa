{
 "cells": [
  {
   "cell_type": "code",
   "execution_count": 64,
   "metadata": {},
   "outputs": [],
   "source": [
    "import pandas as pd\n",
    "import numpy as np\n",
    "import datetime\n",
    "\n",
    "time    = datetime.datetime(2024,4,20)\n",
    "ts      = int(time.timestamp()*1000)\n",
    "date    = str.format(\"{:%Y%m%d}\",time)\n",
    "\n",
    "ts      = 1713620244400\n",
    "ts_end  = 1713628344400\n",
    "\n",
    "path    = \"/home/niig/Desktop\""
   ]
  },
  {
   "cell_type": "code",
   "execution_count": 65,
   "metadata": {},
   "outputs": [],
   "source": [
    "def drop_invalid_lines(input_path: str, output_path: str):\n",
    "    invalid_lines = []\n",
    "\n",
    "    with open(input_path) as in_file, open(output_path, \"w\") as out_file:\n",
    "        for line in in_file:\n",
    "            if line.startswith(\"ts\"):\n",
    "                out_file.write(line)\n",
    "            elif len(line) <= 75:\n",
    "                if line.startswith(\"1\") and len(line.split(\",\")[0]) == 13:\n",
    "                    out_file.write(line)\n",
    "                else:\n",
    "                    invalid_lines.append(line)\n",
    "\n",
    "    df = pd.read_csv(output_path)\n",
    "    df = df[df.ts > ts]\n",
    "    df.to_csv(output_path, index=False)\n",
    "    print(f\"Invalid lines count: {len(invalid_lines)}\")\n",
    "\n",
    "\n",
    "def downsample_data(df: pd.DataFrame, period_ms: int = 100):\n",
    "    df[\"time\"] = pd.to_datetime(df[\"ts\"], unit=\"ms\")\n",
    "    df = df.drop(columns=[\"level_1\"],errors=\"ignore\")\n",
    "    df = (\n",
    "        df.set_index(\"time\")\n",
    "        .resample(f\"{period_ms}ms\")\n",
    "        .mean()\n",
    "        .dropna(how=\"all\")\n",
    "        .interpolate()\n",
    "    )\n",
    "    df[\"ts\"] = ((df[\"ts\"] / period_ms).round(0) * period_ms).astype(\"int64\")    \n",
    "    df[\"time\"] = pd.to_datetime(df[\"ts\"], unit=\"ms\")    \n",
    "    df = df.set_index(\"ts\").drop_duplicates()\n",
    "    return df"
   ]
  },
  {
   "cell_type": "markdown",
   "metadata": {},
   "source": [
    "### Cleanup the GPS file from any invalid lines"
   ]
  },
  {
   "cell_type": "code",
   "execution_count": 66,
   "metadata": {},
   "outputs": [
    {
     "name": "stdout",
     "output_type": "stream",
     "text": [
      "Invalid lines count: 220\n"
     ]
    }
   ],
   "source": [
    "input_path      =  f\"{path}/ride_{date}/gps.csv\"\n",
    "output_path     =  f\"{path}/ride_{date}/gps_clean.csv\"\n",
    "\n",
    "drop_invalid_lines(input_path, output_path)"
   ]
  },
  {
   "cell_type": "markdown",
   "metadata": {},
   "source": [
    "### Remove invalid lines from the . "
   ]
  },
  {
   "cell_type": "code",
   "execution_count": 67,
   "metadata": {},
   "outputs": [
    {
     "name": "stdout",
     "output_type": "stream",
     "text": [
      "Invalid lines count: 1976\n"
     ]
    }
   ],
   "source": [
    "input_path      =  f\"{path}/ride_{date}/measurements.csv\"\n",
    "output_path     =  f\"{path}/ride_{date}/measurements_clean.csv\"\n",
    "\n",
    "drop_invalid_lines(input_path, output_path)"
   ]
  },
  {
   "cell_type": "code",
   "execution_count": 68,
   "metadata": {},
   "outputs": [
    {
     "data": {
      "text/html": [
       "<div>\n",
       "<style scoped>\n",
       "    .dataframe tbody tr th:only-of-type {\n",
       "        vertical-align: middle;\n",
       "    }\n",
       "\n",
       "    .dataframe tbody tr th {\n",
       "        vertical-align: top;\n",
       "    }\n",
       "\n",
       "    .dataframe thead th {\n",
       "        text-align: right;\n",
       "    }\n",
       "</style>\n",
       "<table border=\"1\" class=\"dataframe\">\n",
       "  <thead>\n",
       "    <tr style=\"text-align: right;\">\n",
       "      <th></th>\n",
       "      <th>ts</th>\n",
       "      <th>ts_d</th>\n",
       "    </tr>\n",
       "  </thead>\n",
       "  <tbody>\n",
       "    <tr>\n",
       "      <th>30223</th>\n",
       "      <td>1713625442700</td>\n",
       "      <td>7600.0</td>\n",
       "    </tr>\n",
       "    <tr>\n",
       "      <th>27820</th>\n",
       "      <td>1713624930000</td>\n",
       "      <td>6100.0</td>\n",
       "    </tr>\n",
       "    <tr>\n",
       "      <th>10974</th>\n",
       "      <td>1713621863000</td>\n",
       "      <td>4200.0</td>\n",
       "    </tr>\n",
       "    <tr>\n",
       "      <th>44506</th>\n",
       "      <td>1713628116000</td>\n",
       "      <td>4000.0</td>\n",
       "    </tr>\n",
       "    <tr>\n",
       "      <th>12908</th>\n",
       "      <td>1713622252200</td>\n",
       "      <td>4000.0</td>\n",
       "    </tr>\n",
       "  </tbody>\n",
       "</table>\n",
       "</div>"
      ],
      "text/plain": [
       "                  ts    ts_d\n",
       "30223  1713625442700  7600.0\n",
       "27820  1713624930000  6100.0\n",
       "10974  1713621863000  4200.0\n",
       "44506  1713628116000  4000.0\n",
       "12908  1713622252200  4000.0"
      ]
     },
     "execution_count": 68,
     "metadata": {},
     "output_type": "execute_result"
    }
   ],
   "source": [
    "df[\"ts_d\"]  = df[\"ts\"].diff()\n",
    "df[[\"ts\",\"ts_d\"]].sort_values(by=\"ts_d\",axis=0,ascending=False).head()"
   ]
  },
  {
   "cell_type": "code",
   "execution_count": 69,
   "metadata": {},
   "outputs": [],
   "source": [
    "df_gps = pd.read_csv(f\"{path}/ride_{date}/gps_clean.csv\")\n",
    "df = pd.read_csv(f\"{path}/ride_{date}/measurements_clean.csv\")\n",
    "mapping = {\n",
    "    0: \"heartrate_bpm\",\n",
    "    1: \"power_w\",\n",
    "    2: \"cadence_rpm\",\n",
    "    3: \"speed_kmh\",\n",
    "    4: \"distance_km\",\n",
    "    5: \"elevation_m\",\n",
    "    6: \"ascent\",\n",
    "    7: \"descent\",\n",
    "    8: \"slope\",\n",
    "    9: \"vam\",\n",
    "    10: \"air_temperature\",\n",
    "    11: \"air_pressure_abs\",\n",
    "    12: \"air_humidity\",\n",
    "    13: \"air_speed\",\n",
    "    14: \"air_density\",\n",
    "    15: \"diff_pressure_l_pa\",\n",
    "    16: \"diff_pressure_r_pa\",\n",
    "    17: \"ax_ms2\",\n",
    "    18: \"ay_ms2\",\n",
    "    19: \"az_ms2\",\n",
    "    20: \"wind_speed\",\n",
    "    21: \"wind_yaw\",\n",
    "    22: \"gx\",\n",
    "    23: \"gy\",\n",
    "    24: \"gz\",\n",
    "    25: \"mx\",\n",
    "    26: \"my\",\n",
    "    27: \"mz\",\n",
    "    28: \"roll\",\n",
    "    29: \"pitch\",\n",
    "    30: \"yaw\",\n",
    "}\n",
    "df[\"type\"] = df[\"type\"].replace(mapping)\n",
    "df[\"ts\"] = df[\"ts\"].astype(\"int64\", errors=\"ignore\")\n",
    "df = df[df.ts > ts]\n",
    "df = df[df.ts < ts_end]\n",
    "\n",
    "\n",
    "df = (\n",
    "    df.pivot_table(index=\"ts\", columns=[\"type\"], values=[\"value\"])\n",
    "    .stack(0)\n",
    "    .reset_index()\n",
    ")\n",
    "df = downsample_data(df)"
   ]
  },
  {
   "cell_type": "code",
   "execution_count": 70,
   "metadata": {},
   "outputs": [],
   "source": [
    "df_gps = df_gps[df_gps.ts > ts]\n",
    "df_gps = df_gps[df_gps.ts < ts_end]\n",
    "df_gps = downsample_data(df_gps)"
   ]
  },
  {
   "cell_type": "code",
   "execution_count": 71,
   "metadata": {},
   "outputs": [],
   "source": [
    "df = pd.concat([df, df_gps]).sort_index().reset_index()\n",
    "df = downsample_data(df).reset_index()"
   ]
  },
  {
   "cell_type": "code",
   "execution_count": 72,
   "metadata": {},
   "outputs": [
    {
     "data": {
      "text/html": [
       "<div>\n",
       "<style scoped>\n",
       "    .dataframe tbody tr th:only-of-type {\n",
       "        vertical-align: middle;\n",
       "    }\n",
       "\n",
       "    .dataframe tbody tr th {\n",
       "        vertical-align: top;\n",
       "    }\n",
       "\n",
       "    .dataframe thead th {\n",
       "        text-align: right;\n",
       "    }\n",
       "</style>\n",
       "<table border=\"1\" class=\"dataframe\">\n",
       "  <thead>\n",
       "    <tr style=\"text-align: right;\">\n",
       "      <th></th>\n",
       "      <th>air_density</th>\n",
       "      <th>air_temperature</th>\n",
       "      <th>air_pressure_abs</th>\n",
       "    </tr>\n",
       "  </thead>\n",
       "  <tbody>\n",
       "    <tr>\n",
       "      <th>1</th>\n",
       "      <td>1.227717</td>\n",
       "      <td>12.356689</td>\n",
       "      <td>101441.0600</td>\n",
       "    </tr>\n",
       "    <tr>\n",
       "      <th>2</th>\n",
       "      <td>1.227718</td>\n",
       "      <td>12.355980</td>\n",
       "      <td>101441.0800</td>\n",
       "    </tr>\n",
       "    <tr>\n",
       "      <th>3</th>\n",
       "      <td>1.227719</td>\n",
       "      <td>12.355272</td>\n",
       "      <td>101441.1000</td>\n",
       "    </tr>\n",
       "    <tr>\n",
       "      <th>4</th>\n",
       "      <td>1.227720</td>\n",
       "      <td>12.352986</td>\n",
       "      <td>101440.9875</td>\n",
       "    </tr>\n",
       "    <tr>\n",
       "      <th>5</th>\n",
       "      <td>1.227720</td>\n",
       "      <td>12.351876</td>\n",
       "      <td>101440.8360</td>\n",
       "    </tr>\n",
       "    <tr>\n",
       "      <th>...</th>\n",
       "      <td>...</td>\n",
       "      <td>...</td>\n",
       "      <td>...</td>\n",
       "    </tr>\n",
       "    <tr>\n",
       "      <th>45680</th>\n",
       "      <td>1.227406</td>\n",
       "      <td>8.644837</td>\n",
       "      <td>101445.0200</td>\n",
       "    </tr>\n",
       "    <tr>\n",
       "      <th>45681</th>\n",
       "      <td>1.227406</td>\n",
       "      <td>8.658598</td>\n",
       "      <td>101445.0200</td>\n",
       "    </tr>\n",
       "    <tr>\n",
       "      <th>45682</th>\n",
       "      <td>1.227406</td>\n",
       "      <td>8.658598</td>\n",
       "      <td>101445.0200</td>\n",
       "    </tr>\n",
       "    <tr>\n",
       "      <th>45683</th>\n",
       "      <td>1.227406</td>\n",
       "      <td>8.658598</td>\n",
       "      <td>101445.0200</td>\n",
       "    </tr>\n",
       "    <tr>\n",
       "      <th>45684</th>\n",
       "      <td>1.227406</td>\n",
       "      <td>8.658598</td>\n",
       "      <td>101445.0200</td>\n",
       "    </tr>\n",
       "  </tbody>\n",
       "</table>\n",
       "<p>45684 rows × 3 columns</p>\n",
       "</div>"
      ],
      "text/plain": [
       "       air_density  air_temperature  air_pressure_abs\n",
       "1         1.227717        12.356689       101441.0600\n",
       "2         1.227718        12.355980       101441.0800\n",
       "3         1.227719        12.355272       101441.1000\n",
       "4         1.227720        12.352986       101440.9875\n",
       "5         1.227720        12.351876       101440.8360\n",
       "...            ...              ...               ...\n",
       "45680     1.227406         8.644837       101445.0200\n",
       "45681     1.227406         8.658598       101445.0200\n",
       "45682     1.227406         8.658598       101445.0200\n",
       "45683     1.227406         8.658598       101445.0200\n",
       "45684     1.227406         8.658598       101445.0200\n",
       "\n",
       "[45684 rows x 3 columns]"
      ]
     },
     "execution_count": 72,
     "metadata": {},
     "output_type": "execute_result"
    }
   ],
   "source": [
    "df = df[df.ts > ts].round(8)\n",
    "df = df[df.ts < ts_end]\n",
    "\n",
    "df.to_csv(\n",
    "    f\"{path}/ride_{date}/all_measurement_combined_{date}.csv\", index=False\n",
    ")\n",
    "df[[\"air_density\",\"air_temperature\",\"air_pressure_abs\"]]"
   ]
  }
 ],
 "metadata": {
  "kernelspec": {
   "display_name": "Python 3",
   "language": "python",
   "name": "python3"
  },
  "language_info": {
   "codemirror_mode": {
    "name": "ipython",
    "version": 3
   },
   "file_extension": ".py",
   "mimetype": "text/x-python",
   "name": "python",
   "nbconvert_exporter": "python",
   "pygments_lexer": "ipython3",
   "version": "3.10.9"
  }
 },
 "nbformat": 4,
 "nbformat_minor": 2
}
